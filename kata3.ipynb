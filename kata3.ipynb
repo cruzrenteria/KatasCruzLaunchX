{
 "cells": [
  {
   "cell_type": "markdown",
   "metadata": {},
   "source": [
    "## Ejercicios"
   ]
  },
  {
   "cell_type": "code",
   "execution_count": 1,
   "metadata": {},
   "outputs": [
    {
     "name": "stdout",
     "output_type": "stream",
     "text": [
      "un asteroide se acerca a la Tierra y viaja a una velocidad de 49 km/s\n"
     ]
    }
   ],
   "source": [
    "velocidadAsteroide = 49\n",
    "if velocidadAsteroide > 25:\n",
    "  print(f\"un asteroide se acerca a la Tierra y viaja a una velocidad de {velocidadAsteroide} km/s\")"
   ]
  },
  {
   "cell_type": "code",
   "execution_count": 4,
   "metadata": {},
   "outputs": [
    {
     "name": "stdout",
     "output_type": "stream",
     "text": [
      "busquen el asteriode en el cielo que se dirgige a la tierra a una velocidad de 22 Km/s\n"
     ]
    }
   ],
   "source": [
    "velocidadAsteroide = 22\n",
    "visible = f\"busquen el asteriode en el cielo que se dirgige a la tierra a una velocidad de {velocidadAsteroide} Km/s\"\n",
    "noVisible = f\"asteriode no visible se dirgige a la tierra a una velocidad de {velocidadAsteroide} Km/s\"\n",
    "if velocidadAsteroide >20:\n",
    "    print(visible)\n",
    "elif velocidadAsteroide == 20:\n",
    "    print(visible)\n",
    "else: print(noVisible)"
   ]
  },
  {
   "cell_type": "code",
   "execution_count": 1,
   "metadata": {},
   "outputs": [
    {
     "name": "stdout",
     "output_type": "stream",
     "text": [
      "el asteroide se desintegrara al entrar a la atmosfera\n"
     ]
    }
   ],
   "source": [
    "velocidadAsteroide = 25\n",
    "tamañoAsteroide = 40\n",
    "if (tamañoAsteroide > 25 and velocidadAsteroide > 25) :\n",
    "    print(\"un asteroide golpeara la tierra y causara mucho daño\")\n",
    "elif velocidadAsteroide >=25:\n",
    "    print(\"el asteroide se desintegrara al entrar a la atmosfera\")\n",
    "elif tamañoAsteroide <25:\n",
    "    print(\"don't look up\")\n",
    "else: print(\"don't look up\")"
   ]
  }
 ],
 "metadata": {
  "interpreter": {
   "hash": "afff14868b1167d2054d1ac9c939c2297cb9192b8ea01cea03329d6bd53521ae"
  },
  "kernelspec": {
   "display_name": "Python 3.9.10 64-bit (windows store)",
   "language": "python",
   "name": "python3"
  },
  "language_info": {
   "codemirror_mode": {
    "name": "ipython",
    "version": 3
   },
   "file_extension": ".py",
   "mimetype": "text/x-python",
   "name": "python",
   "nbconvert_exporter": "python",
   "pygments_lexer": "ipython3",
   "version": "3.9.10"
  },
  "orig_nbformat": 4
 },
 "nbformat": 4,
 "nbformat_minor": 2
}
