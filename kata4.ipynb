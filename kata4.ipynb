{
 "cells": [
  {
   "cell_type": "markdown",
   "metadata": {},
   "source": [
    "## Ejercicio 1: Transformar cadenas"
   ]
  },
  {
   "cell_type": "code",
   "execution_count": 71,
   "metadata": {},
   "outputs": [
    {
     "data": {
      "text/plain": [
       "['Interesting facts about the Moon',\n",
       " \"The Moon is Earth's only satellite\",\n",
       " 'There are several interesting facts about the Moon and how it affects life here on Earth',\n",
       " '\\nOn average, the Moon moves 4cm away from the Earth every year',\n",
       " 'This yearly drift is not significant enough to cause immediate effects on Earth',\n",
       " 'The highest daylight temperature of the Moon is 127 C.']"
      ]
     },
     "execution_count": 71,
     "metadata": {},
     "output_type": "execute_result"
    }
   ],
   "source": [
    "myText = \"\"\"Interesting facts about the Moon. The Moon is Earth's only satellite. There are several interesting facts about the Moon and how it affects life here on Earth. \n",
    "On average, the Moon moves 4cm away from the Earth every year. This yearly drift is not significant enough to cause immediate effects on Earth. The highest daylight temperature of the Moon is 127 C.\"\"\"\n",
    "myText = myText.split('. ')\n",
    "myText"
   ]
  },
  {
   "cell_type": "code",
   "execution_count": 72,
   "metadata": {},
   "outputs": [
    {
     "name": "stdout",
     "output_type": "stream",
     "text": [
      "\n",
      "On average, the Moon moves 4cm away from the Earth every year\n",
      "The highest daylight temperature of the Moon is 127 C.\n"
     ]
    }
   ],
   "source": [
    "palabrasPista = [\"average\", \"temperature\",  \"distance\"]\n",
    "\n",
    "for item in myText:\n",
    "    for palabra in palabrasPista:\n",
    "        if palabra in item:\n",
    "         print(item)\n",
    "         \n",
    "     "
   ]
  },
  {
   "cell_type": "code",
   "execution_count": 73,
   "metadata": {},
   "outputs": [
    {
     "name": "stdout",
     "output_type": "stream",
     "text": [
      "\n",
      "On average, the Moon moves 4cm away from the Earth every year\n",
      "The highest daylight temperature of the Moon is 127 Celsius.\n"
     ]
    }
   ],
   "source": [
    "for item in myText:\n",
    "    for palabra in palabrasPista:\n",
    "        if palabra in item:\n",
    "         print(item.replace('C','Celsius'))\n"
   ]
  },
  {
   "cell_type": "markdown",
   "metadata": {},
   "source": [
    "## Ejercicio 2: Formateando Cadena"
   ]
  },
  {
   "cell_type": "code",
   "execution_count": 124,
   "metadata": {},
   "outputs": [
    {
     "name": "stdout",
     "output_type": "stream",
     "text": [
      "informacion de la gravedad sobre Luna \n",
      "--------------------------------------------------------------------------------\n",
      "nombre del planeta: Tierra \n",
      "gravedad en Luna : 1.6199999999999999  m/s2 \n"
     ]
    }
   ],
   "source": [
    "name = \"Luna\"\n",
    "gravedad = 0.00162\n",
    "planeta = \"Tierra\"\n",
    "\n",
    "titulo = \"\"\"informacion de la gravedad sobre {name} \"\"\"\n",
    "titulo +=f\"\"\"\\n{'-'*80}\"\"\"\n",
    "#print(titulo.format(name=name))\n",
    "plantilla = titulo +\"\"\"\\nnombre del planeta: {planeta} \\ngravedad en {name} : {gravedad}  m/s2 \"\"\"\n",
    "print(plantilla.format(name=name,gravedad=gravedad*1000,planeta=planeta))"
   ]
  },
  {
   "cell_type": "code",
   "execution_count": 118,
   "metadata": {},
   "outputs": [
    {
     "name": "stdout",
     "output_type": "stream",
     "text": [
      "informacion de la gravedad sobre Ganimedes \n",
      "--------------------------------------------------------------------------------\n",
      "nombre del planeta: marte \n",
      "gravedad en Ganimedes : 1.4300000000000002  m/s2 \n"
     ]
    }
   ],
   "source": [
    "\n",
    "print(plantilla.format(name=\"Ganimedes\", planeta=\"marte\", gravedad=0.00143*1000))"
   ]
  }
 ],
 "metadata": {
  "interpreter": {
   "hash": "afff14868b1167d2054d1ac9c939c2297cb9192b8ea01cea03329d6bd53521ae"
  },
  "kernelspec": {
   "display_name": "Python 3.9.10 64-bit (windows store)",
   "language": "python",
   "name": "python3"
  },
  "language_info": {
   "codemirror_mode": {
    "name": "ipython",
    "version": 3
   },
   "file_extension": ".py",
   "mimetype": "text/x-python",
   "name": "python",
   "nbconvert_exporter": "python",
   "pygments_lexer": "ipython3",
   "version": "3.9.10"
  },
  "orig_nbformat": 4
 },
 "nbformat": 4,
 "nbformat_minor": 2
}
