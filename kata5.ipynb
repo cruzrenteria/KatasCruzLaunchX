{
 "cells": [
  {
   "cell_type": "markdown",
   "metadata": {},
   "source": [
    "## Ejercicio1 "
   ]
  },
  {
   "cell_type": "code",
   "execution_count": 23,
   "metadata": {},
   "outputs": [
    {
     "name": "stdout",
     "output_type": "stream",
     "text": [
      "la distancia entre la tierra y jupiter es de 628949330 km \n",
      " o la distancia en millas es 38365909.13 mi\n"
     ]
    }
   ],
   "source": [
    "Tierra = 149597870\n",
    "jupiter = 778547200\n",
    "distancia = abs(Tierra-jupiter)\n",
    "distanciami = distancia * .061\n",
    "\n",
    "print(f\"la distancia entre la tierra y jupiter es de {distancia} km \\n o la distancia en millas es {distanciami} mi\")"
   ]
  },
  {
   "cell_type": "markdown",
   "metadata": {},
   "source": [
    "## Ejercicio 2"
   ]
  },
  {
   "cell_type": "code",
   "execution_count": 26,
   "metadata": {},
   "outputs": [
    {
     "name": "stdout",
     "output_type": "stream",
     "text": [
      "Este programa calcula la distancia entre planetas con relacion a sus distancias al sol\n",
      "la distancia entreTierra  y Marte es de 1000 Km \n",
      " o 621.0 mi\n"
     ]
    }
   ],
   "source": [
    "print(\"Este programa calcula la distancia entre planetas con relacion a sus distancias al sol\")\n",
    "Nplaneta1 = input(\"ingrese el nombre del planeta 1\")\n",
    "Dplaneta1 = input(f\"digite la distancia de {Nplaneta1} al sol \")\n",
    "Nplaneta2 = input(\"ingrese el nombre del planeta 2\")\n",
    "Dplaneta2 = input(f\"digite la distancia de {Nplaneta2} al sol \")\n",
    "\n",
    "Dplaneta1 = int(Dplaneta1)\n",
    "Dplaneta2 = int(Dplaneta2)\n",
    "\n",
    "distanciaKm = abs(Dplaneta1-Dplaneta2)\n",
    "distanciaMi = distanciaKm*0.621\n",
    "print(f\"la distancia entre {Nplaneta1} y {Nplaneta2} es de {distanciaKm} Km \\n o {distanciaMi} mi\")\n",
    "\n",
    "\n"
   ]
  }
 ],
 "metadata": {
  "interpreter": {
   "hash": "afff14868b1167d2054d1ac9c939c2297cb9192b8ea01cea03329d6bd53521ae"
  },
  "kernelspec": {
   "display_name": "Python 3.9.10 64-bit (windows store)",
   "language": "python",
   "name": "python3"
  },
  "language_info": {
   "codemirror_mode": {
    "name": "ipython",
    "version": 3
   },
   "file_extension": ".py",
   "mimetype": "text/x-python",
   "name": "python",
   "nbconvert_exporter": "python",
   "pygments_lexer": "ipython3",
   "version": "3.9.10"
  },
  "orig_nbformat": 4
 },
 "nbformat": 4,
 "nbformat_minor": 2
}
