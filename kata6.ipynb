{
 "cells": [
  {
   "cell_type": "markdown",
   "metadata": {},
   "source": [
    "## Ejercicio1"
   ]
  },
  {
   "cell_type": "code",
   "execution_count": 23,
   "metadata": {},
   "outputs": [
    {
     "name": "stdout",
     "output_type": "stream",
     "text": [
      "el numero de planetas en el sistema solar es de 8\n"
     ]
    }
   ],
   "source": [
    "misPlanetas = ['Mercury', 'Venus', 'Earth', 'Mars', 'Jupiter', 'Saturn', 'Uranus', 'Neptune']\n",
    "print (f\"el numero de planetas en el sistema solar es de {len(misPlanetas)}\" )"
   ]
  },
  {
   "cell_type": "code",
   "execution_count": 24,
   "metadata": {},
   "outputs": [
    {
     "name": "stdout",
     "output_type": "stream",
     "text": [
      "el ultimo planeta del sistema solar es pluton\n"
     ]
    }
   ],
   "source": [
    "misPlanetas.append('pluton')\n",
    "print(f\"el ultimo planeta del sistema solar es {misPlanetas[-1]}\")"
   ]
  },
  {
   "cell_type": "markdown",
   "metadata": {},
   "source": [
    "## Ejercicio 2"
   ]
  },
  {
   "cell_type": "code",
   "execution_count": 34,
   "metadata": {},
   "outputs": [
    {
     "name": "stdout",
     "output_type": "stream",
     "text": [
      "este programa te dice cuales planetas estan mas cerca al sol al cual ingresaste, y los que estan mas lejos\n",
      "\n",
      "los planetas que estan entre el sol y Tierra son:\n",
      "['Mercurio', 'Venus']\n",
      "los planetas que estan despues de Tierra son:\n",
      "['Marte', 'Jupiter', 'Saturno', 'Urano', 'Neptuno']\n"
     ]
    }
   ],
   "source": [
    "print(\"este programa te dice cuales planetas estan mas cerca al sol al cual ingresaste, y los que estan mas lejos\\n\")\n",
    "planetas = ['Mercurio', 'Venus','Tierra','Marte','Jupiter','Saturno','Urano','Neptuno']\n",
    "ingreso = input('ingrese el nombe del planeta deseado empezando con mayuscula')\n",
    "\n",
    "if ingreso in planetas:\n",
    " indexPlaneta = planetas.index(ingreso)\n",
    " print(f\"los planetas que estan entre el sol y {planetas[indexPlaneta]} son:\")\n",
    " print(planetas[0:indexPlaneta])\n",
    " print(f\"los planetas que estan despues de {planetas[indexPlaneta]} son:\")\n",
    " print(planetas[indexPlaneta + 1:])\n",
    "\n",
    "\n",
    "elif ingreso == 'Pluton':\n",
    "    print(\"Pluton no es un planeta\")\n",
    "else: print(\"el planeta no exite en el sistema solar\")\n",
    "\n"
   ]
  }
 ],
 "metadata": {
  "interpreter": {
   "hash": "afff14868b1167d2054d1ac9c939c2297cb9192b8ea01cea03329d6bd53521ae"
  },
  "kernelspec": {
   "display_name": "Python 3.9.10 64-bit (windows store)",
   "language": "python",
   "name": "python3"
  },
  "language_info": {
   "codemirror_mode": {
    "name": "ipython",
    "version": 3
   },
   "file_extension": ".py",
   "mimetype": "text/x-python",
   "name": "python",
   "nbconvert_exporter": "python",
   "pygments_lexer": "ipython3",
   "version": "3.9.10"
  },
  "orig_nbformat": 4
 },
 "nbformat": 4,
 "nbformat_minor": 2
}
