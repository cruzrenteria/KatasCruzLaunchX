{
 "cells": [
  {
   "cell_type": "markdown",
   "metadata": {},
   "source": [
    "## ejercicio 1"
   ]
  },
  {
   "cell_type": "code",
   "execution_count": 14,
   "metadata": {},
   "outputs": [],
   "source": [
    "def informeCombustible(tanque1, tanque2, tanque3,tipo):\n",
    "    combistiblePromedio = round((tanque1 + tanque2 + tanque3) / 3)\n",
    "    if tipo =='total':\n",
    "     return f\"\"\" Informe de combustible\n",
    "     combustible promedio: {combistiblePromedio}%\n",
    "     combustible tanque 1: {tanque1}%\n",
    "     combustible tanque 2: {tanque2}%\n",
    "     combustible tanque 3: {tanque3}% \n",
    "     \"\"\"\n",
    "    elif tipo == 'parcial':\n",
    "        return f\"\"\" Informe de combustible\n",
    "     combustible promedio: {combistiblePromedio}%\"\"\"\n"
   ]
  },
  {
   "cell_type": "code",
   "execution_count": 16,
   "metadata": {},
   "outputs": [
    {
     "name": "stdout",
     "output_type": "stream",
     "text": [
      " Informe de combustible\n",
      "     combustible promedio: 40%\n",
      "     combustible tanque 1: 10%\n",
      "     combustible tanque 2: 40%\n",
      "     combustible tanque 3: 70% \n",
      "     \n"
     ]
    }
   ],
   "source": [
    "print(informeCombustible(10, 40, 70,'total'))"
   ]
  },
  {
   "cell_type": "code",
   "execution_count": 17,
   "metadata": {},
   "outputs": [
    {
     "name": "stdout",
     "output_type": "stream",
     "text": [
      " Informe de combustible\n",
      "     combustible promedio: 40%\n"
     ]
    }
   ],
   "source": [
    "print(informeCombustible(10, 40, 70,'parcial'))"
   ]
  },
  {
   "cell_type": "markdown",
   "metadata": {},
   "source": [
    "## Ejercicio 2"
   ]
  },
  {
   "cell_type": "code",
   "execution_count": 21,
   "metadata": {},
   "outputs": [
    {
     "name": "stdout",
     "output_type": "stream",
     "text": [
      "\n",
      "    desito  Luna\n",
      "    tiempo total del viaje: 70 minutos\n",
      "    combustible total: 120000 Litros\n",
      "    \n"
     ]
    }
   ],
   "source": [
    "def informeMision(tiempoLanzamiento, tiempoVuelo, destino, tanque1, tanque2):\n",
    "    return f\"\"\"\n",
    "    desito  {destino}\n",
    "    tiempo total del viaje: {tiempoLanzamiento + tiempoVuelo} minutos\n",
    "    combustible total: {tanque1 + tanque2} Litros\n",
    "    \"\"\"\n",
    "\n",
    "print(informeMision(10, 60, \"Luna\", 70000, 50000))"
   ]
  },
  {
   "cell_type": "code",
   "execution_count": 30,
   "metadata": {},
   "outputs": [
    {
     "name": "stdout",
     "output_type": "stream",
     "text": [
      "\n",
      "    Mision  Luna\n",
      "    tiempo total de viaje: 57 minutos\n",
      "    combustible restante: 80000 litros\n",
      "    \n"
     ]
    }
   ],
   "source": [
    "def reporteMision(destino, *minutos, **combustibleRestante):\n",
    "    return f\"\"\"\n",
    "    Mision  {destino}\n",
    "    tiempo total de viaje: {sum(minutos)} minutos\n",
    "    combustible restante: {sum(combustibleRestante.values())} litros\n",
    "    \"\"\"\n",
    "\n",
    "print(reporteMision(\"Luna\", 7, 10, 40, tanque1=50000, tanque2=30000))"
   ]
  },
  {
   "cell_type": "code",
   "execution_count": 37,
   "metadata": {},
   "outputs": [
    {
     "name": "stdout",
     "output_type": "stream",
     "text": [
      "\n",
      "    Mision  Luna\n",
      "    tiempo total de viaje: 57 minutos\n",
      "    combustible restante: 500 litros\n",
      "    tanque1 tank --> 300 litros restantes\n",
      "tanque2 tank --> 200 litros restantes\n",
      "\n"
     ]
    }
   ],
   "source": [
    "def reporteMision(destino, *minutos, **combustibleRestante):\n",
    "    \n",
    "    reportePrincipal =  f\"\"\"\n",
    "    Mision  {destino}\n",
    "    tiempo total de viaje: {sum(minutos)} minutos\n",
    "    combustible restante: {sum(combustibleRestante.values())} litros\n",
    "    \"\"\"\n",
    "    for numeroTanque, litros in combustibleRestante.items():\n",
    "     reportePrincipal += f\"{numeroTanque} tank --> {litros} litros restantes\\n\"\n",
    "    return reportePrincipal\n",
    "\n",
    "print(reporteMision(\"Luna\", 7, 10, 40, tanque1=300, tanque2=200))"
   ]
  }
 ],
 "metadata": {
  "interpreter": {
   "hash": "afff14868b1167d2054d1ac9c939c2297cb9192b8ea01cea03329d6bd53521ae"
  },
  "kernelspec": {
   "display_name": "Python 3.9.10 64-bit (windows store)",
   "language": "python",
   "name": "python3"
  },
  "language_info": {
   "codemirror_mode": {
    "name": "ipython",
    "version": 3
   },
   "file_extension": ".py",
   "mimetype": "text/x-python",
   "name": "python",
   "nbconvert_exporter": "python",
   "pygments_lexer": "ipython3",
   "version": "3.9.10"
  },
  "orig_nbformat": 4
 },
 "nbformat": 4,
 "nbformat_minor": 2
}
